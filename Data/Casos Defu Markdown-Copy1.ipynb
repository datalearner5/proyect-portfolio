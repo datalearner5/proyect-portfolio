{
 "cells": [
  {
   "cell_type": "markdown",
   "id": "3a5edca7",
   "metadata": {},
   "source": [
    "# Notebook para Casos de Defunciones en México del 2017 al 2020\n",
    "\n",
    "##### Designamos las librerías correspondientes:"
   ]
  },
  {
   "cell_type": "code",
   "execution_count": 3,
   "id": "fe8ec3b5",
   "metadata": {},
   "outputs": [],
   "source": [
    "import pandas as pd\n",
    "import matplotlib.pyplot as plt"
   ]
  },
  {
   "cell_type": "markdown",
   "id": "762507f6",
   "metadata": {},
   "source": [
    "### Para el caso de estudio tomaré la información descargada desde INEGI México y la cargaré en mi GITHUB."
   ]
  },
  {
   "cell_type": "code",
   "execution_count": 4,
   "id": "90d97d69",
   "metadata": {
    "scrolled": true
   },
   "outputs": [],
   "source": [
    "data = pd.read_csv(\"C:\\\\Users\\\\Usuario\\\\Documents\\\\GitHub\\\\proyect-portfolio\\\\Data\\\\Defu8.csv\")"
   ]
  },
  {
   "cell_type": "markdown",
   "id": "2a2f7b2e",
   "metadata": {},
   "source": [
    "Comenzaré visualizando las primeras 5 filas de mi información:"
   ]
  },
  {
   "cell_type": "code",
   "execution_count": 4,
   "id": "cfd57357",
   "metadata": {
    "scrolled": true
   },
   "outputs": [
    {
     "data": {
      "text/html": [
       "<div>\n",
       "<style scoped>\n",
       "    .dataframe tbody tr th:only-of-type {\n",
       "        vertical-align: middle;\n",
       "    }\n",
       "\n",
       "    .dataframe tbody tr th {\n",
       "        vertical-align: top;\n",
       "    }\n",
       "\n",
       "    .dataframe thead th {\n",
       "        text-align: right;\n",
       "    }\n",
       "</style>\n",
       "<table border=\"1\" class=\"dataframe\">\n",
       "  <thead>\n",
       "    <tr style=\"text-align: right;\">\n",
       "      <th></th>\n",
       "      <th>Estado</th>\n",
       "      <th>Causa</th>\n",
       "      <th>Genero</th>\n",
       "      <th>year</th>\n",
       "      <th>Casos</th>\n",
       "    </tr>\n",
       "  </thead>\n",
       "  <tbody>\n",
       "    <tr>\n",
       "      <th>0</th>\n",
       "      <td>Aguascalientes</td>\n",
       "      <td>Ahorcamiento estrangulamiento o sofocación</td>\n",
       "      <td>Hombres</td>\n",
       "      <td>2015</td>\n",
       "      <td>91</td>\n",
       "    </tr>\n",
       "    <tr>\n",
       "      <th>1</th>\n",
       "      <td>Aguascalientes</td>\n",
       "      <td>Ahorcamiento estrangulamiento o sofocación</td>\n",
       "      <td>Mujeres</td>\n",
       "      <td>2015</td>\n",
       "      <td>18</td>\n",
       "    </tr>\n",
       "    <tr>\n",
       "      <th>2</th>\n",
       "      <td>Aguascalientes</td>\n",
       "      <td>Ahorcamiento estrangulamiento o sofocación</td>\n",
       "      <td>No especificado</td>\n",
       "      <td>2015</td>\n",
       "      <td>0</td>\n",
       "    </tr>\n",
       "    <tr>\n",
       "      <th>3</th>\n",
       "      <td>Aguascalientes</td>\n",
       "      <td>Ahorcamiento estrangulamiento o sofocación</td>\n",
       "      <td>Hombres</td>\n",
       "      <td>2016</td>\n",
       "      <td>84</td>\n",
       "    </tr>\n",
       "    <tr>\n",
       "      <th>4</th>\n",
       "      <td>Aguascalientes</td>\n",
       "      <td>Ahorcamiento estrangulamiento o sofocación</td>\n",
       "      <td>Mujeres</td>\n",
       "      <td>2016</td>\n",
       "      <td>19</td>\n",
       "    </tr>\n",
       "  </tbody>\n",
       "</table>\n",
       "</div>"
      ],
      "text/plain": [
       "           Estado                                        Causa  \\\n",
       "0  Aguascalientes  Ahorcamiento estrangulamiento o sofocación    \n",
       "1  Aguascalientes  Ahorcamiento estrangulamiento o sofocación    \n",
       "2  Aguascalientes  Ahorcamiento estrangulamiento o sofocación    \n",
       "3  Aguascalientes  Ahorcamiento estrangulamiento o sofocación    \n",
       "4  Aguascalientes  Ahorcamiento estrangulamiento o sofocación    \n",
       "\n",
       "            Genero  year  Casos  \n",
       "0          Hombres  2015     91  \n",
       "1          Mujeres  2015     18  \n",
       "2  No especificado  2015      0  \n",
       "3          Hombres  2016     84  \n",
       "4          Mujeres  2016     19  "
      ]
     },
     "execution_count": 4,
     "metadata": {},
     "output_type": "execute_result"
    }
   ],
   "source": [
    "data.head(5)"
   ]
  },
  {
   "cell_type": "markdown",
   "id": "5be0c616",
   "metadata": {},
   "source": [
    "Esta es la información que conforma mi base de datos:"
   ]
  },
  {
   "cell_type": "code",
   "execution_count": 7,
   "id": "29ce226c",
   "metadata": {},
   "outputs": [
    {
     "data": {
      "text/plain": [
       "(2520, 5)"
      ]
     },
     "execution_count": 7,
     "metadata": {},
     "output_type": "execute_result"
    }
   ],
   "source": [
    "data.shape"
   ]
  },
  {
   "cell_type": "markdown",
   "id": "ab47d38a",
   "metadata": {},
   "source": [
    "Adicional a esto, tengo que conocer que tipo de datos existen en la tabla cargada:"
   ]
  },
  {
   "cell_type": "code",
   "execution_count": 33,
   "id": "a3df0e49",
   "metadata": {
    "scrolled": false
   },
   "outputs": [
    {
     "data": {
      "text/plain": [
       "Estado    object\n",
       "Causa     object\n",
       "Genero    object\n",
       "Año        int64\n",
       "Casos      int64\n",
       "dtype: object"
      ]
     },
     "execution_count": 33,
     "metadata": {},
     "output_type": "execute_result"
    }
   ],
   "source": [
    "# Tipo de datos que tenemos en cada columna.\n",
    "data.dtypes"
   ]
  },
  {
   "cell_type": "code",
   "execution_count": 34,
   "id": "6ada80bd",
   "metadata": {},
   "outputs": [],
   "source": [
    "# Planteando preguntas."
   ]
  },
  {
   "cell_type": "markdown",
   "id": "a116bfba",
   "metadata": {},
   "source": [
    "### Comenzamos a plantear preguntas a los datos, las cuales serán las siguientes\n",
    "\n",
    "* Cuales son los casos que existen por Estado?\n",
    "* Como se distribuye el promedio.\n",
    "* Número de Casos por año.\n",
    "* Qué pasó en el año 2019 en Nuevo León.\n",
    "* Como se distribuyen los casos por estado.\n",
    "* Como se ve el número de casos por causas de muerte.\n",
    "* Como se distribuyen los casos por cuantiles."
   ]
  },
  {
   "cell_type": "markdown",
   "id": "0a941281",
   "metadata": {},
   "source": [
    "###### Cuantas veces aparece Aguascalientes? "
   ]
  },
  {
   "cell_type": "code",
   "execution_count": 47,
   "id": "165dcb0f",
   "metadata": {
    "scrolled": false
   },
   "outputs": [
    {
     "data": {
      "text/plain": [
       "0        True\n",
       "1        True\n",
       "2        True\n",
       "3        True\n",
       "4        True\n",
       "        ...  \n",
       "2515    False\n",
       "2516    False\n",
       "2517    False\n",
       "2518    False\n",
       "2519    False\n",
       "Name: Estado, Length: 2520, dtype: bool"
      ]
     },
     "execution_count": 47,
     "metadata": {},
     "output_type": "execute_result"
    }
   ],
   "source": [
    "#Cuantos aguascalientes hay?\n",
    "is_aguas = data['Estado']=='Aguascalientes'\n",
    "is_aguas"
   ]
  },
  {
   "cell_type": "markdown",
   "id": "5e16edae",
   "metadata": {},
   "source": [
    "###### Cuantos casos existen por estado todos los años? "
   ]
  },
  {
   "cell_type": "code",
   "execution_count": 88,
   "id": "632ca3f5",
   "metadata": {},
   "outputs": [
    {
     "data": {
      "text/plain": [
       "Estado\n",
       "Aguascalientes                       867\n",
       "Baja California                      946\n",
       "Baja California Sur                  342\n",
       "Campeche                             481\n",
       "Chiapas                             1400\n",
       "Chihuahua                           2570\n",
       "Ciudad de México                    1959\n",
       "Coahuila de Zaragoza                1303\n",
       "Colima                               306\n",
       "Durango                              718\n",
       "Entidad no especificada              737\n",
       "Extranjero                            86\n",
       "Guanajuato                          2917\n",
       "Guerrero                             416\n",
       "Hidalgo                              704\n",
       "Jalisco                             3672\n",
       "Michoacán de Ocampo                 1511\n",
       "Morelos                              486\n",
       "México                              3947\n",
       "Nayarit                              460\n",
       "Nuevo León                          1801\n",
       "Oaxaca                               919\n",
       "Puebla                              1796\n",
       "Querétaro                            862\n",
       "Quintana Roo                         834\n",
       "San Luis Potosí                     1243\n",
       "Sinaloa                              877\n",
       "Sonora                              1565\n",
       "Tabasco                              816\n",
       "Tamaulipas                           968\n",
       "Tlaxcala                             331\n",
       "Total                              41281\n",
       "Veracruz de Ignacio de la Llave     1483\n",
       "Yucatán                             1328\n",
       "Zacatecas                            630\n",
       "Name: Casos, dtype: int64"
      ]
     },
     "execution_count": 88,
     "metadata": {},
     "output_type": "execute_result"
    }
   ],
   "source": [
    "# Cuantos son los casos que existen por Estado?\n",
    "data.groupby(['Estado']).sum()['Casos']"
   ]
  },
  {
   "cell_type": "markdown",
   "id": "482b7bbc",
   "metadata": {},
   "source": [
    "###### De que año a que año van los datos."
   ]
  },
  {
   "cell_type": "code",
   "execution_count": 52,
   "id": "7d28e480",
   "metadata": {
    "scrolled": true
   },
   "outputs": [
    {
     "name": "stdout",
     "output_type": "stream",
     "text": [
      "minimo:  2015\n",
      "maximo:  2020\n"
     ]
    }
   ],
   "source": [
    "# De que año a que año van los datos?\n",
    "print ('minimo: ', data['year'].min())\n",
    "print ('maximo: ', data['year'].max())"
   ]
  },
  {
   "cell_type": "markdown",
   "id": "8a2a10cc",
   "metadata": {},
   "source": [
    "###### Casos por año?"
   ]
  },
  {
   "cell_type": "code",
   "execution_count": 61,
   "id": "c8033d91",
   "metadata": {
    "scrolled": true
   },
   "outputs": [
    {
     "data": {
      "text/plain": [
       "year\n",
       "2015    12850\n",
       "2016    12740\n",
       "2017    13118\n",
       "2018    13616\n",
       "2019    14446\n",
       "2020    15792\n",
       "Name: Casos, dtype: int64"
      ]
     },
     "execution_count": 61,
     "metadata": {},
     "output_type": "execute_result"
    }
   ],
   "source": [
    "# Casos por año\n",
    "data.groupby(['year']).sum()['Casos']"
   ]
  },
  {
   "cell_type": "code",
   "execution_count": 8,
   "id": "c66f60a9",
   "metadata": {},
   "outputs": [
    {
     "data": {
      "text/plain": [
       "0       False\n",
       "1       False\n",
       "2       False\n",
       "3       False\n",
       "4       False\n",
       "        ...  \n",
       "2515    False\n",
       "2516    False\n",
       "2517    False\n",
       "2518    False\n",
       "2519    False\n",
       "Name: year, Length: 2520, dtype: bool"
      ]
     },
     "execution_count": 8,
     "metadata": {},
     "output_type": "execute_result"
    }
   ],
   "source": [
    "is_2017 = data['year']==2017\n",
    "is_2017"
   ]
  },
  {
   "cell_type": "code",
   "execution_count": 63,
   "id": "a045f7cc",
   "metadata": {},
   "outputs": [
    {
     "name": "stdout",
     "output_type": "stream",
     "text": [
      "0       False\n",
      "1       False\n",
      "2       False\n",
      "3       False\n",
      "4       False\n",
      "        ...  \n",
      "2515    False\n",
      "2516    False\n",
      "2517    False\n",
      "2518    False\n",
      "2519    False\n",
      "Name: year, Length: 2520, dtype: bool\n"
     ]
    }
   ],
   "source": [
    "print(is_2017)"
   ]
  },
  {
   "cell_type": "markdown",
   "id": "84224bd2",
   "metadata": {},
   "source": [
    "###### Que sucedió en el 2019 en cada estado?"
   ]
  },
  {
   "cell_type": "code",
   "execution_count": 68,
   "id": "9b3b5e25",
   "metadata": {
    "scrolled": true
   },
   "outputs": [
    {
     "data": {
      "text/html": [
       "<div>\n",
       "<style scoped>\n",
       "    .dataframe tbody tr th:only-of-type {\n",
       "        vertical-align: middle;\n",
       "    }\n",
       "\n",
       "    .dataframe tbody tr th {\n",
       "        vertical-align: top;\n",
       "    }\n",
       "\n",
       "    .dataframe thead th {\n",
       "        text-align: right;\n",
       "    }\n",
       "</style>\n",
       "<table border=\"1\" class=\"dataframe\">\n",
       "  <thead>\n",
       "    <tr style=\"text-align: right;\">\n",
       "      <th></th>\n",
       "      <th>Estado</th>\n",
       "      <th>Causa</th>\n",
       "      <th>Genero</th>\n",
       "      <th>year</th>\n",
       "      <th>Casos</th>\n",
       "    </tr>\n",
       "  </thead>\n",
       "  <tbody>\n",
       "    <tr>\n",
       "      <th>1452</th>\n",
       "      <td>Nuevo León</td>\n",
       "      <td>Ahorcamiento estrangulamiento o sofocación</td>\n",
       "      <td>Hombres</td>\n",
       "      <td>2019</td>\n",
       "      <td>236</td>\n",
       "    </tr>\n",
       "    <tr>\n",
       "      <th>1453</th>\n",
       "      <td>Nuevo León</td>\n",
       "      <td>Ahorcamiento estrangulamiento o sofocación</td>\n",
       "      <td>Mujeres</td>\n",
       "      <td>2019</td>\n",
       "      <td>43</td>\n",
       "    </tr>\n",
       "    <tr>\n",
       "      <th>1454</th>\n",
       "      <td>Nuevo León</td>\n",
       "      <td>Ahorcamiento estrangulamiento o sofocación</td>\n",
       "      <td>No especificado</td>\n",
       "      <td>2019</td>\n",
       "      <td>0</td>\n",
       "    </tr>\n",
       "    <tr>\n",
       "      <th>1470</th>\n",
       "      <td>Nuevo León</td>\n",
       "      <td>Disparo de arma de fuego</td>\n",
       "      <td>Hombres</td>\n",
       "      <td>2019</td>\n",
       "      <td>15</td>\n",
       "    </tr>\n",
       "    <tr>\n",
       "      <th>1471</th>\n",
       "      <td>Nuevo León</td>\n",
       "      <td>Disparo de arma de fuego</td>\n",
       "      <td>Mujeres</td>\n",
       "      <td>2019</td>\n",
       "      <td>1</td>\n",
       "    </tr>\n",
       "    <tr>\n",
       "      <th>1472</th>\n",
       "      <td>Nuevo León</td>\n",
       "      <td>Disparo de arma de fuego</td>\n",
       "      <td>No especificado</td>\n",
       "      <td>2019</td>\n",
       "      <td>0</td>\n",
       "    </tr>\n",
       "    <tr>\n",
       "      <th>1488</th>\n",
       "      <td>Nuevo León</td>\n",
       "      <td>Envenenamiento</td>\n",
       "      <td>Hombres</td>\n",
       "      <td>2019</td>\n",
       "      <td>1</td>\n",
       "    </tr>\n",
       "    <tr>\n",
       "      <th>1489</th>\n",
       "      <td>Nuevo León</td>\n",
       "      <td>Envenenamiento</td>\n",
       "      <td>Mujeres</td>\n",
       "      <td>2019</td>\n",
       "      <td>4</td>\n",
       "    </tr>\n",
       "    <tr>\n",
       "      <th>1490</th>\n",
       "      <td>Nuevo León</td>\n",
       "      <td>Envenenamiento</td>\n",
       "      <td>No especificado</td>\n",
       "      <td>2019</td>\n",
       "      <td>0</td>\n",
       "    </tr>\n",
       "    <tr>\n",
       "      <th>1506</th>\n",
       "      <td>Nuevo León</td>\n",
       "      <td>Otras causas</td>\n",
       "      <td>Hombres</td>\n",
       "      <td>2019</td>\n",
       "      <td>17</td>\n",
       "    </tr>\n",
       "    <tr>\n",
       "      <th>1507</th>\n",
       "      <td>Nuevo León</td>\n",
       "      <td>Otras causas</td>\n",
       "      <td>Mujeres</td>\n",
       "      <td>2019</td>\n",
       "      <td>1</td>\n",
       "    </tr>\n",
       "    <tr>\n",
       "      <th>1508</th>\n",
       "      <td>Nuevo León</td>\n",
       "      <td>Otras causas</td>\n",
       "      <td>No especificado</td>\n",
       "      <td>2019</td>\n",
       "      <td>0</td>\n",
       "    </tr>\n",
       "  </tbody>\n",
       "</table>\n",
       "</div>"
      ],
      "text/plain": [
       "          Estado                                        Causa  \\\n",
       "1452  Nuevo León  Ahorcamiento estrangulamiento o sofocación    \n",
       "1453  Nuevo León  Ahorcamiento estrangulamiento o sofocación    \n",
       "1454  Nuevo León  Ahorcamiento estrangulamiento o sofocación    \n",
       "1470  Nuevo León                     Disparo de arma de fuego   \n",
       "1471  Nuevo León                     Disparo de arma de fuego   \n",
       "1472  Nuevo León                     Disparo de arma de fuego   \n",
       "1488  Nuevo León                               Envenenamiento   \n",
       "1489  Nuevo León                               Envenenamiento   \n",
       "1490  Nuevo León                               Envenenamiento   \n",
       "1506  Nuevo León                                 Otras causas   \n",
       "1507  Nuevo León                                 Otras causas   \n",
       "1508  Nuevo León                                 Otras causas   \n",
       "\n",
       "               Genero  year  Casos  \n",
       "1452          Hombres  2019    236  \n",
       "1453          Mujeres  2019     43  \n",
       "1454  No especificado  2019      0  \n",
       "1470          Hombres  2019     15  \n",
       "1471          Mujeres  2019      1  \n",
       "1472  No especificado  2019      0  \n",
       "1488          Hombres  2019      1  \n",
       "1489          Mujeres  2019      4  \n",
       "1490  No especificado  2019      0  \n",
       "1506          Hombres  2019     17  \n",
       "1507          Mujeres  2019      1  \n",
       "1508  No especificado  2019      0  "
      ]
     },
     "execution_count": 68,
     "metadata": {},
     "output_type": "execute_result"
    }
   ],
   "source": [
    "data[(data['year']==2019) & (data['Estado']=='Nuevo León')]"
   ]
  },
  {
   "cell_type": "markdown",
   "id": "aa5ac8ea",
   "metadata": {},
   "source": [
    "###### Como se distribuyen las causas"
   ]
  },
  {
   "cell_type": "code",
   "execution_count": 71,
   "id": "816cf2bf",
   "metadata": {
    "scrolled": true
   },
   "outputs": [
    {
     "data": {
      "text/plain": [
       "<AxesSubplot:>"
      ]
     },
     "execution_count": 71,
     "metadata": {},
     "output_type": "execute_result"
    },
    {
     "data": {
      "image/png": "[encoded data removed]",
      "text/plain": [
       "<Figure size 432x288 with 1 Axes>"
      ]
     },
     "metadata": {
      "needs_background": "light"
     },
     "output_type": "display_data"
    }
   ],
   "source": [
    "data['Causa'].hist(bins = 30)"
   ]
  },
  {
   "cell_type": "markdown",
   "id": "aaebffe1",
   "metadata": {},
   "source": [
    "###### Como se visualizan el número de casos por las causas."
   ]
  },
  {
   "cell_type": "code",
   "execution_count": 76,
   "id": "81bc422f",
   "metadata": {
    "scrolled": true
   },
   "outputs": [
    {
     "data": {
      "text/plain": [
       "<AxesSubplot:ylabel='Causa'>"
      ]
     },
     "execution_count": 76,
     "metadata": {},
     "output_type": "execute_result"
    },
    {
     "data": {
      "image/png": "[encoded data removed]",
      "text/plain": [
       "<Figure size 432x288 with 1 Axes>"
      ]
     },
     "metadata": {
      "needs_background": "light"
     },
     "output_type": "display_data"
    }
   ],
   "source": [
    "data.groupby(['Causa']).sum()['Casos'].plot.barh()"
   ]
  },
  {
   "cell_type": "code",
   "execution_count": 77,
   "id": "8468a66a",
   "metadata": {
    "scrolled": false
   },
   "outputs": [
    {
     "data": {
      "text/plain": [
       "<AxesSubplot:xlabel='Causa'>"
      ]
     },
     "execution_count": 77,
     "metadata": {},
     "output_type": "execute_result"
    },
    {
     "data": {
      "image/png": "[encoded data removed]",
      "text/plain": [
       "<Figure size 432x288 with 1 Axes>"
      ]
     },
     "metadata": {
      "needs_background": "light"
     },
     "output_type": "display_data"
    }
   ],
   "source": [
    "data.groupby(['Causa']).sum()['Casos'].plot.bar()"
   ]
  },
  {
   "cell_type": "markdown",
   "id": "f3d59220",
   "metadata": {},
   "source": [
    "###### Como se visualizan los datos en Plot scatter el número de casos por estados."
   ]
  },
  {
   "cell_type": "code",
   "execution_count": 92,
   "id": "6fdfda91",
   "metadata": {
    "scrolled": true
   },
   "outputs": [
    {
     "data": {
      "text/plain": [
       "<AxesSubplot:xlabel='Casos', ylabel='Estado'>"
      ]
     },
     "execution_count": 92,
     "metadata": {},
     "output_type": "execute_result"
    },
    {
     "data": {
      "text/plain": [
       "<Figure size 200x1000 with 0 Axes>"
      ]
     },
     "metadata": {},
     "output_type": "display_data"
    },
    {
     "data": {
      "image/png": "[encoded data removed]",
      "text/plain": [
       "<Figure size 432x288 with 1 Axes>"
      ]
     },
     "metadata": {
      "needs_background": "light"
     },
     "output_type": "display_data"
    }
   ],
   "source": [
    "plt.figure(figsize=(5,25), dpi=40)\n",
    "data[['Estado','Casos']].plot.scatter(x = 'Casos' , y = 'Estado')"
   ]
  },
  {
   "cell_type": "markdown",
   "id": "8e3d966a",
   "metadata": {},
   "source": [
    "###### Distribución entre género y número de casos."
   ]
  },
  {
   "cell_type": "code",
   "execution_count": 85,
   "id": "9eebf9e1",
   "metadata": {
    "scrolled": true
   },
   "outputs": [
    {
     "data": {
      "text/plain": [
       "<AxesSubplot:xlabel='Genero', ylabel='Casos'>"
      ]
     },
     "execution_count": 85,
     "metadata": {},
     "output_type": "execute_result"
    },
    {
     "data": {
      "image/png": "[encoded data removed]",
      "text/plain": [
       "<Figure size 432x288 with 1 Axes>"
      ]
     },
     "metadata": {
      "needs_background": "light"
     },
     "output_type": "display_data"
    }
   ],
   "source": [
    "data[['Genero','Casos']].plot.scatter(x = 'Genero' , y = 'Casos')"
   ]
  },
  {
   "cell_type": "markdown",
   "id": "38d76598",
   "metadata": {},
   "source": [
    "###### Como se distribuyen los casos por cuantiles?"
   ]
  },
  {
   "cell_type": "code",
   "execution_count": 5,
   "id": "a9fb0fe7",
   "metadata": {},
   "outputs": [
    {
     "data": {
      "text/plain": [
       "0.00       0.0\n",
       "0.25       0.0\n",
       "0.50       2.0\n",
       "0.75      11.0\n",
       "1.00    5499.0\n",
       "Name: Casos, dtype: float64"
      ]
     },
     "execution_count": 5,
     "metadata": {},
     "output_type": "execute_result"
    }
   ],
   "source": [
    "# Cuantiles en la muestra.\n",
    "data['Casos'].quantile([0,0.25,0.50,0.75,1])"
   ]
  },
  {
   "cell_type": "code",
   "execution_count": null,
   "id": "d5e0eee8",
   "metadata": {},
   "outputs": [],
   "source": []
  }
 ],
 "metadata": {
  "kernelspec": {
   "display_name": "Python 3 (ipykernel)",
   "language": "python",
   "name": "python3"
  },
  "language_info": {
   "codemirror_mode": {
    "name": "ipython",
    "version": 3
   },
   "file_extension": ".py",
   "mimetype": "text/x-python",
   "name": "python",
   "nbconvert_exporter": "python",
   "pygments_lexer": "ipython3",
   "version": "3.9.7"
  }
 },
 "nbformat": 4,
 "nbformat_minor": 5
}
